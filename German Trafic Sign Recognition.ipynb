{
 "cells": [
  {
   "cell_type": "code",
   "execution_count": 1,
   "id": "discrete-circumstances",
   "metadata": {},
   "outputs": [],
   "source": [
    "import os\n",
    "import cv2\n",
    "import numpy as np\n",
    "import pandas as pd\n",
    "import tensorflow as tf\n",
    "import matplotlib.pyplot as plt\n",
    "from PIL import Image"
   ]
  },
  {
   "cell_type": "code",
   "execution_count": 8,
   "id": "cleared-salem",
   "metadata": {},
   "outputs": [],
   "source": [
    "#Reading input images and putting into numpy array\n",
    "data = []\n",
    "labels = []\n",
    "\n",
    "height = 30\n",
    "width = 30\n",
    "channels = 3\n",
    "classes = 43\n",
    "n_inputs = height * width * channels\n",
    "\n",
    "for i in range(classes):\n",
    "    path='./data/GTSRB/train/{0}/'.format(i)\n",
    "    #print(path)\n",
    "    Class = os.listdir(path)\n",
    "    for img in Class:\n",
    "        try:\n",
    "            image = cv2.imread(path+img)\n",
    "            image_from_array = Image.fromarray(image, 'RGB')\n",
    "            resized_image = image_from_array.resize((height, width))\n",
    "            data.append(np.array(resized_image))\n",
    "            labels.append(i)\n",
    "        except AttributeError:\n",
    "            pass\n",
    "\n",
    "Cells = np.array(data)\n",
    "labels = np.array(labels)"
   ]
  },
  {
   "cell_type": "code",
   "execution_count": 9,
   "id": "ideal-antarctica",
   "metadata": {},
   "outputs": [],
   "source": [
    "# Randomize the order of the input images\n",
    "s = np.arange(Cells.shape[0])\n",
    "np.random.seed(43)\n",
    "np.random.shuffle(s)\n",
    "Cells = Cells[s]\n",
    "labels = labels[s]"
   ]
  },
  {
   "cell_type": "code",
   "execution_count": 11,
   "id": "informational-short",
   "metadata": {},
   "outputs": [],
   "source": [
    "# Spliting the images into train and validation sets\n",
    "(X_train, X_val) = Cells[(int)(0.2*len(labels)):], Cells[:(int)(0.2*len(labels))]\n",
    "X_train = X_train.astype('float32')/255\n",
    "X_val = X_val.astype('float32')/255\n",
    "(y_train, y_val) = labels[(int)(0.2*len(labels)):], labels[:(int)(0.2*len(labels))]\n",
    "\n",
    "#Using one hote encoding for the train and validation labels\n",
    "from tensorflow.keras.utils import to_categorical\n",
    "y_train = to_categorical(y_train, 43)\n",
    "y_val = to_categorical(y_val, 43)"
   ]
  },
  {
   "cell_type": "code",
   "execution_count": 19,
   "id": "imported-ratio",
   "metadata": {},
   "outputs": [],
   "source": [
    "# Define DNN model\n",
    "from tensorflow.keras.models import Sequential\n",
    "from tensorflow.keras.layers import Conv2D, MaxPool2D, Dense, Flatten, Dropout\n",
    "\n",
    "model = Sequential()\n",
    "model.add(Conv2D(filters=32, kernel_size=(5,5), activation='relu', input_shape=X_train.shape[1:]))\n",
    "model.add(Conv2D(filters=64, kernel_size=(3,3), activation='relu'))\n",
    "model.add(MaxPool2D(pool_size=(2,2)))\n",
    "model.add(Dropout(rate=0.25))\n",
    "model.add(Conv2D(filters=64, kernel_size=(3,3), activation='relu'))\n",
    "model.add(MaxPool2D(pool_size=(2,2)))\n",
    "model.add(Dropout(rate=0.25))\n",
    "model.add(Flatten())\n",
    "model.add(Dense(256, activation='relu'))\n",
    "model.add(Dropout(rate=0.5))\n",
    "model.add(Dense(43, activation='softmax'))"
   ]
  },
  {
   "cell_type": "code",
   "execution_count": 20,
   "id": "studied-female",
   "metadata": {},
   "outputs": [],
   "source": [
    "# Compile the model\n",
    "model.compile(\n",
    "    loss = 'categorical_crossentropy',\n",
    "    optimizer='adam',\n",
    "    metrics=['accuracy']\n",
    ")"
   ]
  },
  {
   "cell_type": "code",
   "execution_count": 21,
   "id": "bound-documentary",
   "metadata": {},
   "outputs": [
    {
     "name": "stdout",
     "output_type": "stream",
     "text": [
      "Model: \"sequential_5\"\n",
      "_________________________________________________________________\n",
      "Layer (type)                 Output Shape              Param #   \n",
      "=================================================================\n",
      "conv2d_9 (Conv2D)            (None, 26, 26, 32)        2432      \n",
      "_________________________________________________________________\n",
      "conv2d_10 (Conv2D)           (None, 24, 24, 64)        18496     \n",
      "_________________________________________________________________\n",
      "max_pooling2d_4 (MaxPooling2 (None, 12, 12, 64)        0         \n",
      "_________________________________________________________________\n",
      "dropout_2 (Dropout)          (None, 12, 12, 64)        0         \n",
      "_________________________________________________________________\n",
      "conv2d_11 (Conv2D)           (None, 10, 10, 64)        36928     \n",
      "_________________________________________________________________\n",
      "max_pooling2d_5 (MaxPooling2 (None, 5, 5, 64)          0         \n",
      "_________________________________________________________________\n",
      "dropout_3 (Dropout)          (None, 5, 5, 64)          0         \n",
      "_________________________________________________________________\n",
      "flatten (Flatten)            (None, 1600)              0         \n",
      "_________________________________________________________________\n",
      "dense (Dense)                (None, 256)               409856    \n",
      "_________________________________________________________________\n",
      "dropout_4 (Dropout)          (None, 256)               0         \n",
      "_________________________________________________________________\n",
      "dense_1 (Dense)              (None, 43)                11051     \n",
      "=================================================================\n",
      "Total params: 478,763\n",
      "Trainable params: 478,763\n",
      "Non-trainable params: 0\n",
      "_________________________________________________________________\n"
     ]
    }
   ],
   "source": [
    "model.summary()"
   ]
  },
  {
   "cell_type": "code",
   "execution_count": 26,
   "id": "atmospheric-engineer",
   "metadata": {},
   "outputs": [
    {
     "name": "stdout",
     "output_type": "stream",
     "text": [
      "Epoch 1/30\n",
      "981/981 [==============================] - 34s 35ms/step - loss: 0.1188 - accuracy: 0.9636\n",
      "Epoch 2/30\n",
      "981/981 [==============================] - 38s 39ms/step - loss: 0.0976 - accuracy: 0.9701\n",
      "Epoch 3/30\n",
      "981/981 [==============================] - 39s 40ms/step - loss: 0.0782 - accuracy: 0.9747\n",
      "Epoch 4/30\n",
      "981/981 [==============================] - 45s 46ms/step - loss: 0.0670 - accuracy: 0.9793\n",
      "Epoch 5/30\n",
      "981/981 [==============================] - 43s 44ms/step - loss: 0.0698 - accuracy: 0.9794\n",
      "Epoch 6/30\n",
      "981/981 [==============================] - 43s 44ms/step - loss: 0.0545 - accuracy: 0.9826\n",
      "Epoch 7/30\n",
      "981/981 [==============================] - 45s 46ms/step - loss: 0.0576 - accuracy: 0.9830\n",
      "Epoch 8/30\n",
      "981/981 [==============================] - 41s 42ms/step - loss: 0.0495 - accuracy: 0.9854\n",
      "Epoch 9/30\n",
      "981/981 [==============================] - 38s 39ms/step - loss: 0.0474 - accuracy: 0.9854\n",
      "Epoch 10/30\n",
      "981/981 [==============================] - 39s 40ms/step - loss: 0.0453 - accuracy: 0.9863\n",
      "Epoch 11/30\n",
      "981/981 [==============================] - 38s 39ms/step - loss: 0.0437 - accuracy: 0.9880\n",
      "Epoch 12/30\n",
      "981/981 [==============================] - 38s 39ms/step - loss: 0.0427 - accuracy: 0.9870\n",
      "Epoch 13/30\n",
      "981/981 [==============================] - 38s 38ms/step - loss: 0.0425 - accuracy: 0.9876\n",
      "Epoch 14/30\n",
      "981/981 [==============================] - 38s 38ms/step - loss: 0.0467 - accuracy: 0.9868\n",
      "Epoch 15/30\n",
      "981/981 [==============================] - 38s 38ms/step - loss: 0.0421 - accuracy: 0.9884\n",
      "Epoch 16/30\n",
      "981/981 [==============================] - 39s 39ms/step - loss: 0.0397 - accuracy: 0.9892\n",
      "Epoch 17/30\n",
      "981/981 [==============================] - 38s 39ms/step - loss: 0.0384 - accuracy: 0.9886\n",
      "Epoch 18/30\n",
      "981/981 [==============================] - 38s 38ms/step - loss: 0.0404 - accuracy: 0.9887\n",
      "Epoch 19/30\n",
      "981/981 [==============================] - 47s 47ms/step - loss: 0.0374 - accuracy: 0.9893\n",
      "Epoch 20/30\n",
      "981/981 [==============================] - 46s 47ms/step - loss: 0.0389 - accuracy: 0.9880\n",
      "Epoch 21/30\n",
      "981/981 [==============================] - 44s 45ms/step - loss: 0.0377 - accuracy: 0.9892\n",
      "Epoch 22/30\n",
      "981/981 [==============================] - 38s 39ms/step - loss: 0.0388 - accuracy: 0.9896\n",
      "Epoch 23/30\n",
      "981/981 [==============================] - 38s 39ms/step - loss: 0.0350 - accuracy: 0.9904\n",
      "Epoch 24/30\n",
      "981/981 [==============================] - 38s 39ms/step - loss: 0.0367 - accuracy: 0.9900\n",
      "Epoch 25/30\n",
      "981/981 [==============================] - 41s 41ms/step - loss: 0.0288 - accuracy: 0.9931\n",
      "Epoch 26/30\n",
      "981/981 [==============================] - 47s 47ms/step - loss: 0.0387 - accuracy: 0.9895\n",
      "Epoch 27/30\n",
      "981/981 [==============================] - 42s 43ms/step - loss: 0.0337 - accuracy: 0.9906\n",
      "Epoch 28/30\n",
      "981/981 [==============================] - 39s 40ms/step - loss: 0.0335 - accuracy: 0.9917\n",
      "Epoch 29/30\n",
      "981/981 [==============================] - 39s 40ms/step - loss: 0.0322 - accuracy: 0.9920\n",
      "Epoch 30/30\n",
      "981/981 [==============================] - 39s 39ms/step - loss: 0.0379 - accuracy: 0.9912\n"
     ]
    }
   ],
   "source": [
    "# Train the model\n",
    "epochs = 30\n",
    "history = model.fit(X_train, y_train, batch_size=32, epochs=epochs)\n",
    "validation_data=(X_val, y_val)"
   ]
  },
  {
   "cell_type": "code",
   "execution_count": 43,
   "id": "streaming-textbook",
   "metadata": {},
   "outputs": [],
   "source": [
    "model.save('./model/GTSRB-1-30epochs.h5')"
   ]
  },
  {
   "cell_type": "markdown",
   "id": "departmental-suspension",
   "metadata": {},
   "source": [
    "Dataset: https://www.kaggle.com/meowmeowmeowmeowmeow/gtsrb-german-traffic-sign"
   ]
  }
 ],
 "metadata": {
  "kernelspec": {
   "display_name": "Python 3",
   "language": "python",
   "name": "python3"
  },
  "language_info": {
   "codemirror_mode": {
    "name": "ipython",
    "version": 3
   },
   "file_extension": ".py",
   "mimetype": "text/x-python",
   "name": "python",
   "nbconvert_exporter": "python",
   "pygments_lexer": "ipython3",
   "version": "3.8.3"
  },
  "varInspector": {
   "cols": {
    "lenName": 16,
    "lenType": 16,
    "lenVar": 40
   },
   "kernels_config": {
    "python": {
     "delete_cmd_postfix": "",
     "delete_cmd_prefix": "del ",
     "library": "var_list.py",
     "varRefreshCmd": "print(var_dic_list())"
    },
    "r": {
     "delete_cmd_postfix": ") ",
     "delete_cmd_prefix": "rm(",
     "library": "var_list.r",
     "varRefreshCmd": "cat(var_dic_list()) "
    }
   },
   "position": {
    "height": "505.85px",
    "left": "1466px",
    "right": "20px",
    "top": "120px",
    "width": "434px"
   },
   "types_to_exclude": [
    "module",
    "function",
    "builtin_function_or_method",
    "instance",
    "_Feature"
   ],
   "window_display": true
  }
 },
 "nbformat": 4,
 "nbformat_minor": 5
}
